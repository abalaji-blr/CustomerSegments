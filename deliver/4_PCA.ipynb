{
 "cells": [
  {
   "cell_type": "markdown",
   "metadata": {},
   "source": [
    "## PCA"
   ]
  },
  {
   "cell_type": "markdown",
   "metadata": {},
   "source": [
    "* **PCA** is dimensionality reduction technique.\n",
    "* This creates new features by linear combination of original columns.\n",
    "* They are **principal components**"
   ]
  },
  {
   "cell_type": "code",
   "execution_count": 1,
   "metadata": {
    "collapsed": false
   },
   "outputs": [
    {
     "name": "stdout",
     "output_type": "stream",
     "text": [
      "Print is ready to serve.\n"
     ]
    }
   ],
   "source": [
    "# print_function for compatibility with Python 3\n",
    "\n",
    "from __future__ import print_function\n",
    "print('Print is ready to serve.')\n",
    "\n",
    "# NumPy for numerical computing\n",
    "import numpy as np\n",
    "\n",
    "# Pandas for DataFrames\n",
    "import pandas as pd\n",
    "\n",
    "\n",
    "# Matplotlib for visualization\n",
    "import matplotlib.pyplot as plt\n",
    "\n",
    "# display plots in the notebook\n",
    "%matplotlib inline\n",
    "\n",
    "# Seaborn for easier visualization\n",
    "import seaborn as sns"
   ]
  },
  {
   "cell_type": "code",
   "execution_count": 2,
   "metadata": {
    "collapsed": true
   },
   "outputs": [],
   "source": [
    "# StandardScaler from Scikit-Learn\n",
    "from sklearn.preprocessing import StandardScaler\n",
    "\n",
    "# PCA from Scikit-Learn  \n",
    "from sklearn.decomposition import PCA"
   ]
  },
  {
   "cell_type": "code",
   "execution_count": 3,
   "metadata": {
    "collapsed": true
   },
   "outputs": [],
   "source": [
    "## use item_data and apply PCA on the items\n",
    "\n",
    "item_data = pd.read_csv('./item_data.csv', index_col=0)"
   ]
  },
  {
   "cell_type": "code",
   "execution_count": 4,
   "metadata": {
    "collapsed": false
   },
   "outputs": [
    {
     "data": {
      "text/plain": [
       "(414, 2574)"
      ]
     },
     "execution_count": 4,
     "metadata": {},
     "output_type": "execute_result"
    }
   ],
   "source": [
    "item_data.shape"
   ]
  },
  {
   "cell_type": "markdown",
   "metadata": {},
   "source": [
    "## Apply PCA to item_data"
   ]
  },
  {
   "cell_type": "markdown",
   "metadata": {},
   "source": [
    "## First standardize the data"
   ]
  },
  {
   "cell_type": "code",
   "execution_count": 5,
   "metadata": {
    "collapsed": false
   },
   "outputs": [
    {
     "data": {
      "text/plain": [
       "array([[-0.13303802, -0.04920678, -0.1119152 , ..., -0.10482848,\n",
       "        -0.15568183, -0.68068072],\n",
       "       [-0.13303802, -0.04920678, -0.1119152 , ..., -0.10482848,\n",
       "        -0.15568183,  0.38776219],\n",
       "       [-0.13303802, -0.04920678, -0.1119152 , ..., -0.10482848,\n",
       "        -0.15568183, -0.41356999],\n",
       "       [-0.13303802, -0.04920678, -0.1119152 , ..., -0.10482848,\n",
       "        -0.15568183, -0.41356999],\n",
       "       [-0.13303802, -0.04920678, -0.1119152 , ..., -0.10482848,\n",
       "         5.53128397,  0.65487292]])"
      ]
     },
     "execution_count": 5,
     "metadata": {},
     "output_type": "execute_result"
    }
   ],
   "source": [
    "# Initialize instance of StandardScaler\n",
    "scaler = StandardScaler()\n",
    "\n",
    "# Fit and transform item_data\n",
    "item_data_scaled = scaler.fit_transform(item_data)\n",
    "\n",
    "# Display first 5 rows of item_data_scaled\n",
    "item_data_scaled[:5]"
   ]
  },
  {
   "cell_type": "markdown",
   "metadata": {},
   "source": [
    "## Perform PCA"
   ]
  },
  {
   "cell_type": "code",
   "execution_count": 6,
   "metadata": {
    "collapsed": false
   },
   "outputs": [
    {
     "data": {
      "text/plain": [
       "PCA(copy=True, iterated_power='auto', n_components=None, random_state=None,\n",
       "  svd_solver='auto', tol=0.0, whiten=False)"
      ]
     },
     "execution_count": 6,
     "metadata": {},
     "output_type": "execute_result"
    }
   ],
   "source": [
    "# Initialize and fit a PCA transformation\n",
    "\n",
    "pca = PCA()\n",
    "pca.fit(item_data_scaled)"
   ]
  },
  {
   "cell_type": "markdown",
   "metadata": {},
   "source": [
    "## Generate new principal component features"
   ]
  },
  {
   "cell_type": "code",
   "execution_count": 7,
   "metadata": {
    "collapsed": false
   },
   "outputs": [
    {
     "data": {
      "text/plain": [
       "array([[  5.87614052e+00,   4.82891689e+00,  -4.95545069e-01, ...,\n",
       "         -6.62646278e-04,  -4.43629806e-05,   5.39585737e-15],\n",
       "       [ -4.21983747e+00,   1.22621722e+00,  -1.88191211e+00, ...,\n",
       "         -2.11471782e-04,  -2.69154340e-04,   2.28810026e-15],\n",
       "       [ -1.26084676e+00,   2.38766371e+00,  -7.31483440e-02, ...,\n",
       "          2.57750179e-04,  -2.05682324e-04,   1.98105421e-15],\n",
       "       [ -4.92931983e+00,  -7.14858724e-01,  -1.58093026e+00, ...,\n",
       "         -1.98603886e-03,   9.92316312e-05,   4.06272238e-15],\n",
       "       [ -2.05311348e+00,   2.11095022e+00,   1.84807021e-01, ...,\n",
       "         -3.43415269e-04,  -1.32981672e-04,   1.27120536e-14]])"
      ]
     },
     "execution_count": 7,
     "metadata": {},
     "output_type": "execute_result"
    }
   ],
   "source": [
    "# Generate new features\n",
    "\n",
    "PC_items = pca.transform(item_data_scaled)\n",
    "\n",
    "# Display first 5 rows\n",
    "PC_items[:5]"
   ]
  },
  {
   "cell_type": "code",
   "execution_count": 8,
   "metadata": {
    "collapsed": false
   },
   "outputs": [
    {
     "data": {
      "text/plain": [
       "array([  3.28183263e-02,   2.01032296e-02,   1.83670302e-02,\n",
       "         1.70582480e-02,   1.55720373e-02,   1.53029505e-02,\n",
       "         1.46786166e-02,   1.38709328e-02,   1.35045110e-02,\n",
       "         1.30643727e-02,   1.26131250e-02,   1.25665162e-02,\n",
       "         1.23072882e-02,   1.18519781e-02,   1.18280629e-02,\n",
       "         1.14712293e-02,   1.12240977e-02,   1.09042376e-02,\n",
       "         1.05032417e-02,   1.03630925e-02,   1.00952261e-02,\n",
       "         9.78634235e-03,   9.42226011e-03,   9.19961413e-03,\n",
       "         9.10777133e-03,   8.93990658e-03,   8.85802865e-03,\n",
       "         8.69144062e-03,   8.53263004e-03,   8.40526427e-03,\n",
       "         8.12138098e-03,   8.07883224e-03,   7.93715289e-03,\n",
       "         7.84479085e-03,   7.77463029e-03,   7.61052243e-03,\n",
       "         7.45096245e-03,   7.35654359e-03,   7.08744430e-03,\n",
       "         6.91342199e-03,   6.86448253e-03,   6.83072586e-03,\n",
       "         6.63242577e-03,   6.53272662e-03,   6.40874201e-03,\n",
       "         6.28622923e-03,   6.14869932e-03,   6.06031873e-03,\n",
       "         6.05515683e-03,   6.01215222e-03,   5.80301579e-03,\n",
       "         5.72582189e-03,   5.63080545e-03,   5.54569845e-03,\n",
       "         5.50191216e-03,   5.41742619e-03,   5.32176984e-03,\n",
       "         5.26588207e-03,   5.23801196e-03,   5.14241320e-03,\n",
       "         5.03693412e-03,   5.01217300e-03,   4.98930071e-03,\n",
       "         4.89598191e-03,   4.80790127e-03,   4.78918932e-03,\n",
       "         4.69950975e-03,   4.62556272e-03,   4.58835631e-03,\n",
       "         4.54665890e-03,   4.44208292e-03,   4.41988792e-03,\n",
       "         4.35883135e-03,   4.29461243e-03,   4.15754952e-03,\n",
       "         4.12270645e-03,   4.06538517e-03,   4.03688501e-03,\n",
       "         3.99849106e-03,   3.97500091e-03,   3.92247563e-03,\n",
       "         3.78923412e-03,   3.73050192e-03,   3.70185588e-03,\n",
       "         3.59623474e-03,   3.55675851e-03,   3.50842291e-03,\n",
       "         3.43814207e-03,   3.39768475e-03,   3.32623039e-03,\n",
       "         3.27961293e-03,   3.25797909e-03,   3.22792935e-03,\n",
       "         3.12607034e-03,   3.09539317e-03,   3.04917580e-03,\n",
       "         3.02833521e-03,   2.96300516e-03,   2.92595904e-03,\n",
       "         2.91049407e-03,   2.84430563e-03,   2.83930509e-03,\n",
       "         2.82614231e-03,   2.81233219e-03,   2.77637008e-03,\n",
       "         2.74584883e-03,   2.70026788e-03,   2.68985362e-03,\n",
       "         2.66279756e-03,   2.63400424e-03,   2.57572188e-03,\n",
       "         2.53019485e-03,   2.50024395e-03,   2.46055517e-03,\n",
       "         2.44280821e-03,   2.41347917e-03,   2.40260033e-03,\n",
       "         2.36860793e-03,   2.33820187e-03,   2.33281277e-03,\n",
       "         2.29472125e-03,   2.28129051e-03,   2.26634185e-03,\n",
       "         2.23888437e-03,   2.22300923e-03,   2.20958072e-03,\n",
       "         2.17751095e-03,   2.17048485e-03,   2.14621856e-03,\n",
       "         2.10716715e-03,   2.09511979e-03,   2.08639086e-03,\n",
       "         2.06057843e-03,   2.04988682e-03,   2.02221832e-03,\n",
       "         2.00104130e-03,   1.97686121e-03,   1.96975106e-03,\n",
       "         1.96170747e-03,   1.92858392e-03,   1.90632688e-03,\n",
       "         1.88964766e-03,   1.87571478e-03,   1.84963088e-03,\n",
       "         1.84285688e-03,   1.80884170e-03,   1.79666589e-03,\n",
       "         1.78510964e-03,   1.76716545e-03,   1.75328688e-03,\n",
       "         1.72432439e-03,   1.70455999e-03,   1.69679803e-03,\n",
       "         1.68065107e-03,   1.66894563e-03,   1.65567237e-03,\n",
       "         1.63771701e-03,   1.62455652e-03,   1.61322621e-03,\n",
       "         1.59227371e-03,   1.58478973e-03,   1.55595815e-03,\n",
       "         1.55139135e-03,   1.54345380e-03,   1.51349759e-03,\n",
       "         1.50832442e-03,   1.48965169e-03,   1.48549899e-03,\n",
       "         1.47305832e-03,   1.45046777e-03,   1.43820869e-03,\n",
       "         1.43623241e-03,   1.42267054e-03,   1.41020992e-03,\n",
       "         1.39869577e-03,   1.38686510e-03,   1.37047622e-03,\n",
       "         1.36180702e-03,   1.34847356e-03,   1.33951880e-03,\n",
       "         1.32192248e-03,   1.31304768e-03,   1.30396325e-03,\n",
       "         1.29021351e-03,   1.26902730e-03,   1.25623130e-03,\n",
       "         1.24626000e-03,   1.22699006e-03,   1.19830657e-03,\n",
       "         1.19221415e-03,   1.17770716e-03,   1.16604357e-03,\n",
       "         1.15726261e-03,   1.15484332e-03,   1.14336252e-03,\n",
       "         1.13177129e-03,   1.11749353e-03,   1.11157293e-03,\n",
       "         1.09810402e-03,   1.08395944e-03,   1.07277189e-03,\n",
       "         1.06308911e-03,   1.05229909e-03,   1.03889761e-03,\n",
       "         1.03083826e-03,   1.02466943e-03,   1.01073022e-03,\n",
       "         1.00498462e-03,   9.94261284e-04,   9.84333989e-04,\n",
       "         9.81803587e-04,   9.75054232e-04,   9.51289929e-04,\n",
       "         9.49455052e-04,   9.39207115e-04,   9.30030497e-04,\n",
       "         9.21051573e-04,   9.20045883e-04,   9.11722431e-04,\n",
       "         8.94295949e-04,   8.86411550e-04,   8.82995105e-04,\n",
       "         8.70048284e-04,   8.68745256e-04,   8.51716479e-04,\n",
       "         8.48072297e-04,   8.34762727e-04,   8.28965918e-04,\n",
       "         8.15831838e-04,   8.08460363e-04,   7.91170552e-04,\n",
       "         7.87802998e-04,   7.75022773e-04,   7.71090325e-04,\n",
       "         7.68474569e-04,   7.59519937e-04,   7.49268872e-04,\n",
       "         7.42376700e-04,   7.35020744e-04,   7.28662626e-04,\n",
       "         7.23261147e-04,   7.12865924e-04,   7.11304207e-04,\n",
       "         6.94038922e-04,   6.87681457e-04,   6.77616409e-04,\n",
       "         6.63729860e-04,   6.59400904e-04,   6.58573608e-04,\n",
       "         6.48710379e-04,   6.43964383e-04,   6.41183154e-04,\n",
       "         6.28048892e-04,   6.22537464e-04,   6.18047536e-04,\n",
       "         6.15310074e-04,   6.06502575e-04,   5.98870236e-04,\n",
       "         5.93562025e-04,   5.87448381e-04,   5.85336805e-04,\n",
       "         5.80942371e-04,   5.71974211e-04,   5.66203162e-04,\n",
       "         5.58378681e-04,   5.50744937e-04,   5.48464599e-04,\n",
       "         5.44785425e-04,   5.38168228e-04,   5.27668538e-04,\n",
       "         5.20651533e-04,   5.15101913e-04,   5.11867445e-04,\n",
       "         4.99627536e-04,   4.94826026e-04,   4.93456215e-04,\n",
       "         4.91909418e-04,   4.81362128e-04,   4.78215796e-04,\n",
       "         4.76136766e-04,   4.68024733e-04,   4.56629690e-04,\n",
       "         4.54534003e-04,   4.51859285e-04,   4.42046741e-04,\n",
       "         4.37179256e-04,   4.30500977e-04,   4.26062932e-04,\n",
       "         4.23723689e-04,   4.18481901e-04,   4.13975843e-04,\n",
       "         4.10934586e-04,   4.09399013e-04,   4.05226266e-04,\n",
       "         4.00010346e-04,   3.98843352e-04,   3.93732192e-04,\n",
       "         3.88672871e-04,   3.81232630e-04,   3.80755342e-04,\n",
       "         3.75103906e-04,   3.73176100e-04,   3.69646438e-04,\n",
       "         3.65683775e-04,   3.55618307e-04,   3.53688950e-04,\n",
       "         3.49301309e-04,   3.47809047e-04,   3.46687730e-04,\n",
       "         3.34824479e-04,   3.30500695e-04,   3.28105311e-04,\n",
       "         3.22390728e-04,   3.16889100e-04,   3.09657544e-04,\n",
       "         3.05105562e-04,   3.01619386e-04,   2.93217828e-04,\n",
       "         2.90919937e-04,   2.78184876e-04,   2.71115291e-04,\n",
       "         2.70041460e-04,   2.66283889e-04,   2.55809991e-04,\n",
       "         2.53273661e-04,   2.48554242e-04,   2.42713166e-04,\n",
       "         2.37153544e-04,   2.33172994e-04,   2.30602318e-04,\n",
       "         2.26096220e-04,   2.20471910e-04,   2.18560424e-04,\n",
       "         2.12877140e-04,   2.11257564e-04,   2.04230257e-04,\n",
       "         1.99024711e-04,   1.97321321e-04,   1.94075588e-04,\n",
       "         1.90759138e-04,   1.89395979e-04,   1.85664005e-04,\n",
       "         1.84036458e-04,   1.80665976e-04,   1.77061802e-04,\n",
       "         1.72983462e-04,   1.70971773e-04,   1.69794998e-04,\n",
       "         1.65963272e-04,   1.62193521e-04,   1.58799292e-04,\n",
       "         1.54538051e-04,   1.53758526e-04,   1.48221038e-04,\n",
       "         1.46832677e-04,   1.45610930e-04,   1.44771171e-04,\n",
       "         1.42605421e-04,   1.39842397e-04,   1.36271734e-04,\n",
       "         1.32786710e-04,   1.31296599e-04,   1.29560579e-04,\n",
       "         1.24421000e-04,   1.20853640e-04,   1.18108356e-04,\n",
       "         1.15567707e-04,   1.14204185e-04,   1.11316664e-04,\n",
       "         1.08691689e-04,   1.07367437e-04,   1.05698773e-04,\n",
       "         1.02231819e-04,   1.00685324e-04,   9.88701207e-05,\n",
       "         9.56219474e-05,   9.48485866e-05,   9.16025190e-05,\n",
       "         8.91703430e-05,   8.78089941e-05,   8.25697595e-05,\n",
       "         8.05397003e-05,   7.80122340e-05,   7.44149448e-05,\n",
       "         7.26467669e-05,   7.05928890e-05,   6.77232743e-05,\n",
       "         6.69628863e-05,   6.45840374e-05,   6.22037004e-05,\n",
       "         5.81199076e-05,   5.17442694e-05,   4.37706928e-05,\n",
       "         4.24948159e-05,   3.96405351e-05,   3.86674634e-05,\n",
       "         3.71023904e-05,   3.43374848e-05,   3.32658864e-05,\n",
       "         2.78919084e-05,   2.71039175e-05,   2.43316636e-05,\n",
       "         2.32928151e-05,   2.20093127e-05,   1.98728931e-05,\n",
       "         1.70625562e-05,   1.25078806e-05,   1.04072572e-05,\n",
       "         9.45676896e-06,   8.16124866e-06,   4.80145951e-06,\n",
       "         1.76402590e-06,   6.42056333e-07,   1.53393538e-32])"
      ]
     },
     "execution_count": 8,
     "metadata": {},
     "output_type": "execute_result"
    }
   ],
   "source": [
    "pca.explained_variance_ratio_"
   ]
  },
  {
   "cell_type": "code",
   "execution_count": 9,
   "metadata": {
    "collapsed": false
   },
   "outputs": [
    {
     "data": {
      "text/plain": [
       "[<matplotlib.lines.Line2D at 0x11096f5d0>]"
      ]
     },
     "execution_count": 9,
     "metadata": {},
     "output_type": "execute_result"
    },
    {
     "data": {
      "image/png": "[encoded data removed]",
      "text/plain": [
       "<matplotlib.figure.Figure at 0x110ad7390>"
      ]
     },
     "metadata": {},
     "output_type": "display_data"
    }
   ],
   "source": [
    "# Cumulative explained variance\n",
    "cumulative_explained_variance = np.cumsum(pca.explained_variance_ratio_)\n",
    "\n",
    "# Plot cumulative explained variance\n",
    "plt.plot(range(len(cumulative_explained_variance)), cumulative_explained_variance)"
   ]
  },
  {
   "cell_type": "code",
   "execution_count": 10,
   "metadata": {
    "collapsed": false
   },
   "outputs": [
    {
     "data": {
      "text/plain": [
       "0.79550690322054018"
      ]
     },
     "execution_count": 10,
     "metadata": {},
     "output_type": "execute_result"
    }
   ],
   "source": [
    "# How much variance we'd capture with the first 125 components\n",
    "cumulative_explained_variance[124]"
   ]
  },
  {
   "cell_type": "code",
   "execution_count": 11,
   "metadata": {
    "collapsed": false
   },
   "outputs": [
    {
     "data": {
      "text/plain": [
       "array([[  5.87613932e+00,   4.82892363e+00,  -4.95562763e-01,\n",
       "          3.09384858e+00,  -6.33756725e-01,  -1.15340518e+01,\n",
       "          2.16198779e+00,   7.11691210e+00,   5.33608625e+00,\n",
       "          4.42433942e+00,   4.63707589e+00,   2.31655050e+00,\n",
       "          1.23108274e+01,   1.98670538e+00,  -1.14310713e+01,\n",
       "          5.61782303e+00,  -2.17736910e+00,   7.66596922e+00,\n",
       "         -1.21362229e+01,  -1.60492289e+01,  -5.94889641e+00,\n",
       "          7.81418686e+00,   4.05183338e+01,  -3.55738210e+01,\n",
       "         -1.75581487e+01,   6.87031925e+00,   2.08869443e+01,\n",
       "          2.29694405e+00,  -2.61609194e+01,  -3.25790120e+01,\n",
       "          7.88219135e+00,   1.23602318e+01,   6.82504113e+00,\n",
       "         -3.29592518e+01,  -4.40146211e+00,  -1.72391223e+01,\n",
       "         -1.12725063e+01,  -1.44884360e+01,  -2.76582238e+00,\n",
       "          4.73739505e+00,  -6.98280688e+00,  -1.46014320e+00,\n",
       "          1.06016514e+01,   1.25043022e+00,   3.08641065e+00,\n",
       "          5.33765391e+00,  -4.11450388e-01,   1.62496021e+00,\n",
       "         -6.38806284e+00,   3.05673248e+00,   2.66434743e+00,\n",
       "         -2.46033814e-01,   1.58335710e-01,  -2.45509778e+00,\n",
       "         -4.74415737e+00,  -2.07207949e+00,   4.29550554e+00,\n",
       "         -5.15554633e+00,  -3.36395754e+00,   5.28476488e-02,\n",
       "         -6.75717096e-01,  -7.81107569e-01,  -2.43048325e+00,\n",
       "         -9.34916651e-01,  -1.70824836e+00,  -1.00757015e+00,\n",
       "          2.06407430e+00,  -2.91373573e+00,   4.76349341e-01,\n",
       "          1.74688892e+00,  -1.12654550e+00,   1.67829134e+00,\n",
       "         -4.51235948e-01,   2.52379321e-01,  -1.68636445e+00,\n",
       "         -2.38670976e+00,   2.27014785e+00,  -9.03521503e-01,\n",
       "         -1.90848655e+00,  -1.86889470e+00,   1.28477494e+00,\n",
       "          5.32425068e-01,  -1.36201149e+00,  -2.01388705e+00,\n",
       "         -3.57865767e+00,   5.25650452e-01,  -1.97777930e+00,\n",
       "          4.92053013e-01,   3.37291569e-01,   9.79038318e-01,\n",
       "         -2.04492778e+00,   9.17054772e-01,   5.12021794e-01,\n",
       "         -8.61178519e-01,  -8.77142013e-02,  -8.61664780e-01,\n",
       "         -9.89754127e-02,   4.92149619e-02,  -5.43575048e-01,\n",
       "         -1.93243662e-01,   1.39919078e+00,   2.66114819e-01,\n",
       "         -3.87329434e-01,  -3.73493931e-01,   5.05380973e-01,\n",
       "          2.76102685e-01,  -1.38555471e+00,   8.78195999e-01,\n",
       "          8.90306343e-01,   2.70968625e-01,   1.03512876e-01,\n",
       "          3.27715672e-01,  -3.95789169e-01,   5.22085569e-01,\n",
       "          2.48586842e-01,   4.72311141e-01,   5.48480343e-01,\n",
       "          6.67170055e-01,   5.11332052e-01,  -9.49694010e-02,\n",
       "         -8.62805344e-01,  -4.34867059e-03,  -7.96604398e-01,\n",
       "          3.87505158e-01,   1.23233435e-02],\n",
       "       [ -4.21984101e+00,   1.22620733e+00,  -1.88197317e+00,\n",
       "         -1.74140985e-01,   8.17732244e-01,   1.16066235e+00,\n",
       "         -8.71644414e-01,  -8.46729847e-01,   4.60375949e-01,\n",
       "          8.53772486e-01,  -4.01994944e-01,   9.81644952e-01,\n",
       "         -1.10369685e+00,   7.70163355e-01,  -9.26471645e-02,\n",
       "         -3.13440622e-01,  -4.48435429e-01,   1.20733874e+00,\n",
       "          3.80773921e-01,  -4.68296659e-01,   1.87222829e-01,\n",
       "          5.52236752e-02,   4.98709146e-01,   3.73532201e-01,\n",
       "          1.22792876e+00,  -7.71405480e-01,  -2.74735187e-01,\n",
       "          8.49578862e-01,  -3.67637905e-01,  -5.73789251e-01,\n",
       "          1.01329153e+00,  -5.88805166e-01,   9.54684628e-01,\n",
       "         -7.32162789e-01,   3.59523238e-01,  -3.85379006e-01,\n",
       "         -2.95122933e-01,   3.95111432e-01,   1.52744833e-01,\n",
       "          3.16790348e-01,  -4.61941542e-01,   7.03752255e-01,\n",
       "          1.20134176e+00,  -1.95150636e-01,  -8.71532024e-01,\n",
       "         -5.62355265e-02,  -4.30854912e-01,  -1.61174408e+00,\n",
       "         -3.92704885e-01,   4.39553125e-01,   3.28445599e-01,\n",
       "          1.29586777e+00,  -1.83375548e-01,  -6.38776684e-01,\n",
       "          6.60088892e-01,   1.17862795e+00,  -1.83259087e+00,\n",
       "         -6.91033736e-01,   7.97166162e-01,   3.48760114e-01,\n",
       "          2.19645909e-01,   1.86841814e-01,  -1.74954232e-01,\n",
       "         -4.11677254e-02,   1.90753006e+00,   1.54438472e-01,\n",
       "          5.39729793e-01,  -1.32892001e-01,  -1.33002631e+00,\n",
       "          9.73766052e-02,   4.46790008e-01,  -1.60464483e+00,\n",
       "          7.54126387e-01,  -3.38694157e-01,   1.32170198e+00,\n",
       "          1.07362617e+00,  -8.47909327e-01,  -3.77436589e-01,\n",
       "         -4.36930099e-01,   6.34324879e-02,   1.94701328e-01,\n",
       "         -8.25469805e-01,  -4.42557059e-01,   7.76296741e-01,\n",
       "          1.77612185e-01,   2.33188109e-01,   3.37759306e-02,\n",
       "         -1.82981617e+00,  -1.50458392e-01,  -4.91092892e-01,\n",
       "         -6.88157896e-01,   1.52475652e-01,   7.11435782e-01,\n",
       "         -9.95912386e-01,  -6.00864527e-01,  -2.16679073e-01,\n",
       "         -4.03270254e-02,  -9.95920229e-01,  -1.32423489e+00,\n",
       "          2.83375548e-01,  -5.65297843e-01,   1.12455148e+00,\n",
       "         -8.39981178e-01,   2.38387700e+00,   1.80563331e+00,\n",
       "          1.50799940e-01,  -2.72157478e-01,  -1.60532064e+00,\n",
       "         -1.84774462e+00,  -2.40798136e-03,   6.47224280e-01,\n",
       "          1.99327704e-01,  -6.48698013e-01,  -1.14275998e+00,\n",
       "          1.54889622e+00,  -8.11850364e-01,  -2.63291496e-02,\n",
       "          1.09514940e+00,  -1.51482303e-01,  -1.71599543e+00,\n",
       "          1.56725417e+00,  -5.89701591e-01,   1.72948961e+00,\n",
       "          1.03274874e+00,  -9.36083784e-01],\n",
       "       [ -1.26083201e+00,   2.38757867e+00,  -7.30298541e-02,\n",
       "         -1.11920195e+00,  -3.44448569e-02,  -3.71476411e+00,\n",
       "         -3.43120430e-01,  -1.49343964e-01,  -7.90103335e-01,\n",
       "         -3.80275169e-01,   1.57042174e+00,   1.82706353e-01,\n",
       "          2.22847246e-01,  -5.27456578e-02,   3.17794775e+00,\n",
       "         -5.11783171e-01,  -1.83788745e+00,   3.82508002e-01,\n",
       "          3.18860603e-01,  -4.48251066e-03,  -4.18698893e-01,\n",
       "          4.57434550e-01,  -7.83733634e-01,   1.75214769e+00,\n",
       "         -1.48342372e+00,   7.51454831e-01,  -9.05725613e-01,\n",
       "          7.76249620e-01,   5.02226158e-01,  -1.34629110e+00,\n",
       "          2.88541129e-01,   6.78737121e-01,   8.11328049e-02,\n",
       "         -2.17753902e-01,  -6.69567504e-01,  -1.52990331e+00,\n",
       "          7.75178032e-01,  -1.40742045e+00,  -8.92984756e-02,\n",
       "         -9.33230097e-01,   8.98233705e-02,  -9.11654637e-02,\n",
       "         -1.76983828e-01,   7.10715589e-01,   1.35501798e+00,\n",
       "         -2.36617279e-01,  -7.60827854e-02,  -1.88970650e-01,\n",
       "          8.62843630e-01,   1.69525031e+00,  -3.01985835e+00,\n",
       "         -1.38285250e+00,  -3.31190250e-01,   1.26916294e+00,\n",
       "         -3.26776712e-01,   2.20911084e-01,  -8.56105482e-01,\n",
       "          6.39302736e-01,  -2.70920714e-01,  -2.32807175e+00,\n",
       "         -2.37209850e-01,   2.35047063e-01,   2.17677348e-01,\n",
       "         -9.57667625e-02,   2.87360469e-01,   1.02158548e+00,\n",
       "         -1.88370634e+00,   1.66992679e+00,  -1.01412214e+00,\n",
       "         -1.39582910e+00,  -5.19179987e-01,   7.40147135e-01,\n",
       "          1.09290458e+00,  -1.59957134e-01,  -3.87194768e-01,\n",
       "         -2.03371824e+00,  -8.46762540e-01,   1.57973765e+00,\n",
       "          7.33155773e-01,   8.98888945e-01,  -1.29467344e-01,\n",
       "         -1.06889033e+00,   9.54197264e-01,   1.09011362e+00,\n",
       "         -5.08979610e-01,   1.31997345e+00,   9.60315876e-01,\n",
       "         -3.09939443e+00,  -2.91799392e+00,   3.02351467e-01,\n",
       "         -2.25019440e+00,  -1.61291520e+00,  -2.31511289e+00,\n",
       "         -3.01889185e-01,   1.50131515e+00,   7.68545705e-02,\n",
       "         -1.35727130e+00,  -1.40526293e+00,   5.44601394e-01,\n",
       "          1.75711037e+00,  -1.81526759e+00,   3.16083708e-01,\n",
       "          4.03141528e-01,  -3.38597032e+00,   1.00284342e+00,\n",
       "          6.33227217e-01,  -2.28726998e+00,  -1.05143952e+00,\n",
       "         -1.97214902e+00,  -1.44790166e+00,   3.66473427e+00,\n",
       "          1.62371158e+00,   3.12695573e+00,   1.59440567e+00,\n",
       "         -4.89894749e+00,  -1.34431402e+00,  -1.83449750e+00,\n",
       "         -5.54079033e-01,  -4.36433079e+00,   1.85511818e+00,\n",
       "         -4.03863759e+00,  -3.33420255e+00,   9.69839897e-02,\n",
       "          3.13874465e+00,   3.94693380e+00],\n",
       "       [ -4.92932093e+00,  -7.14915494e-01,  -1.58092333e+00,\n",
       "         -4.69786030e-01,  -1.16052546e-01,   6.47767704e-01,\n",
       "          1.12826908e-01,  -1.33568767e+00,   1.54638250e+00,\n",
       "         -1.18975670e+00,  -2.12875542e-01,   1.05800090e+00,\n",
       "         -4.75001973e-01,   8.57247139e-01,  -1.30493764e+00,\n",
       "          2.41835386e-01,   2.68355944e-01,   1.95312784e+00,\n",
       "         -2.28305539e-01,   5.69766647e-01,  -1.85858154e-01,\n",
       "          9.02069056e-01,   1.36435068e+00,   1.76635841e-01,\n",
       "         -2.58027854e-01,  -1.68636378e-01,  -6.83232324e-01,\n",
       "          1.08059695e+00,  -1.55395051e-01,  -3.95208657e-01,\n",
       "          2.37946906e-01,   6.31531333e-01,  -1.44745453e+00,\n",
       "         -1.85214896e-01,  -3.18692077e-01,  -3.09736233e-01,\n",
       "         -1.35182881e+00,  -5.47989755e-03,   5.73489138e-01,\n",
       "         -2.44731109e-01,   5.88277206e-01,  -2.22750312e-01,\n",
       "          2.79857328e-01,   5.28110965e-01,  -5.42812653e-01,\n",
       "         -9.07485313e-02,  -1.48711765e+00,   1.42540371e-01,\n",
       "          1.36913803e-01,  -6.51022691e-01,  -8.01667322e-01,\n",
       "          1.48470336e-01,   1.31563573e+00,  -7.69561125e-01,\n",
       "         -5.46859765e-01,   8.68875296e-01,   1.35218219e+00,\n",
       "         -1.69862263e-01,  -3.86055207e-01,  -4.27669978e-01,\n",
       "         -1.36255113e+00,  -1.23246049e+00,   1.44253775e-01,\n",
       "         -8.14384957e-01,  -3.89970030e-01,  -5.10954940e-01,\n",
       "         -1.31893839e+00,  -1.82240527e-01,  -7.59530969e-01,\n",
       "         -3.30692399e-01,  -8.91124282e-01,  -1.37859984e-01,\n",
       "         -5.21454601e-02,  -5.95435613e-02,  -1.08549420e+00,\n",
       "         -1.65298855e+00,  -3.28333605e-01,   6.20612047e-01,\n",
       "          4.93348425e-01,  -5.35631181e-01,  -2.42329181e-02,\n",
       "         -1.68074907e+00,   9.43288644e-02,   8.95200512e-01,\n",
       "         -2.98018445e-01,   2.20485990e-01,  -1.12017278e-01,\n",
       "          1.15015757e-01,  -3.13970356e-01,  -4.65246939e-01,\n",
       "          3.92815228e-01,   4.21978935e-01,  -3.09922625e-01,\n",
       "         -4.66707863e-01,  -5.74101085e-02,  -1.73789527e-01,\n",
       "         -6.90534526e-01,  -1.18659242e-01,   5.35000259e-01,\n",
       "         -1.12863246e+00,  -5.95363529e-02,  -2.61021877e-01,\n",
       "         -1.96896993e-01,   6.11042482e-02,  -3.59384696e-02,\n",
       "         -4.30990669e-01,  -9.97730702e-02,   1.11174426e-01,\n",
       "          5.99035606e-01,   4.16147072e-01,  -9.43183449e-01,\n",
       "          1.54978937e+00,  -7.87646832e-01,  -1.33658981e+00,\n",
       "          9.98012458e-01,   2.16626570e-01,   5.21098893e-01,\n",
       "         -3.40817831e-01,  -1.73480431e+00,   7.02641459e-01,\n",
       "         -4.03931326e-01,  -9.01435327e-01,  -1.77777589e+00,\n",
       "          8.68562688e-01,  -2.46534717e+00],\n",
       "       [ -2.05310311e+00,   2.11098848e+00,   1.84946223e-01,\n",
       "          1.27916998e-01,   8.76885830e-02,  -1.94392848e+00,\n",
       "          2.38355446e+00,   8.98989518e-01,  -6.72348894e-01,\n",
       "          8.14299849e-02,   8.76484972e-01,   1.04975263e+00,\n",
       "         -7.41788320e-01,  -2.07249238e+00,  -6.39327425e-01,\n",
       "          2.02666764e-02,   1.15371860e-01,   5.73214573e-01,\n",
       "         -2.83716617e-02,   1.02065685e-01,  -6.95830512e-01,\n",
       "         -9.09814200e-01,  -2.32659614e+00,   5.18085881e-01,\n",
       "         -1.76252528e+00,   2.23728423e-01,  -1.06095178e+00,\n",
       "         -1.80375655e+00,  -9.29405254e-01,   2.10165263e+00,\n",
       "         -1.61210861e-01,   2.22596056e+00,   2.23968720e+00,\n",
       "         -5.71599098e-01,   2.44158926e+00,   1.37776510e+00,\n",
       "          1.74935680e-01,  -3.89974289e-01,   1.82184185e+00,\n",
       "          1.22559218e+00,  -9.59005440e-01,  -8.78928567e-01,\n",
       "         -1.11906459e+00,  -7.34901052e-02,  -8.67798396e-01,\n",
       "         -2.25061416e+00,  -1.58794382e+00,  -1.47838680e+00,\n",
       "          9.32918915e-01,   2.76369308e-01,  -1.52783866e+00,\n",
       "          6.56086597e-01,   3.51989293e+00,   4.90928289e-01,\n",
       "          1.39102450e+00,  -1.45457766e+00,  -1.31801926e+00,\n",
       "         -3.49704674e-01,   1.67098572e-01,  -2.07331522e+00,\n",
       "          4.09324340e-01,  -2.77400409e-02,   1.02160511e+00,\n",
       "         -3.31475378e-01,   3.53578428e-01,  -2.25597652e-01,\n",
       "         -7.35131619e-01,  -5.87097246e-01,  -2.20771340e+00,\n",
       "         -2.04919738e+00,   6.39709760e-01,  -2.23227168e-01,\n",
       "          3.02290444e+00,  -1.30060278e-01,   4.13184264e-02,\n",
       "         -1.05600409e+00,   4.24408090e-03,   2.71764845e+00,\n",
       "         -3.07664475e+00,   5.22637870e-01,   4.32994684e-01,\n",
       "         -9.63090340e-01,   2.55090786e+00,   6.84574046e-01,\n",
       "         -1.92140679e+00,  -2.93240435e+00,   1.37327734e+00,\n",
       "          1.42036369e+00,  -6.73662137e+00,  -2.34250069e+00,\n",
       "         -4.36790543e+00,  -4.30646721e+00,  -3.51265846e-01,\n",
       "          2.14398386e+00,   6.80682822e+00,  -1.39928134e+00,\n",
       "          2.70858840e+00,   9.60807667e+00,  -3.42196761e+00,\n",
       "          4.32887992e+00,   9.26778376e+00,   2.58404019e+00,\n",
       "         -1.34249035e-01,  -8.82355273e+00,   8.66498278e+00,\n",
       "         -8.76860455e+00,  -3.15296000e+00,   2.49974962e+01,\n",
       "         -4.24693248e+00,   7.03259709e+00,   6.87462892e+00,\n",
       "          2.84959217e+00,  -1.09577060e+00,   6.10513299e-01,\n",
       "          5.08369089e+00,   1.30105878e+01,   1.80730166e+00,\n",
       "         -8.15764395e+00,   1.99714585e+00,  -3.43820694e+00,\n",
       "         -3.35959940e+00,   2.47413891e+00,  -2.86925845e+00,\n",
       "         -2.43363367e+00,   2.11995766e+00]])"
      ]
     },
     "execution_count": 11,
     "metadata": {},
     "output_type": "execute_result"
    }
   ],
   "source": [
    "# Initialize PCA transformation, only keeping 125 components\n",
    "\n",
    "pca = PCA(n_components = 125)\n",
    "\n",
    "# Fit and transform item_data_scaled\n",
    "pca.fit(item_data_scaled)\n",
    "\n",
    "PC_items = pca.transform(item_data_scaled)\n",
    "\n",
    "# Display shape of PC_items\n",
    "PC_items[:5]"
   ]
  },
  {
   "cell_type": "code",
   "execution_count": 12,
   "metadata": {
    "collapsed": false
   },
   "outputs": [
    {
     "data": {
      "text/plain": [
       "numpy.ndarray"
      ]
     },
     "execution_count": 12,
     "metadata": {},
     "output_type": "execute_result"
    }
   ],
   "source": [
    "type(PC_items)"
   ]
  },
  {
   "cell_type": "code",
   "execution_count": 13,
   "metadata": {
    "collapsed": false
   },
   "outputs": [
    {
     "name": "stdout",
     "output_type": "stream",
     "text": [
      "(414, 125)\n"
     ]
    },
    {
     "data": {
      "text/plain": [
       "125"
      ]
     },
     "execution_count": 13,
     "metadata": {},
     "output_type": "execute_result"
    }
   ],
   "source": [
    "print(PC_items.shape)\n",
    "PC_items.shape[1]"
   ]
  },
  {
   "cell_type": "code",
   "execution_count": 14,
   "metadata": {
    "collapsed": false
   },
   "outputs": [
    {
     "data": {
      "text/html": [
       "<div>\n",
       "<table border=\"1\" class=\"dataframe\">\n",
       "  <thead>\n",
       "    <tr style=\"text-align: right;\">\n",
       "      <th></th>\n",
       "      <th>PC1</th>\n",
       "      <th>PC2</th>\n",
       "      <th>PC3</th>\n",
       "      <th>PC4</th>\n",
       "      <th>PC5</th>\n",
       "      <th>PC6</th>\n",
       "      <th>PC7</th>\n",
       "      <th>PC8</th>\n",
       "      <th>PC9</th>\n",
       "      <th>PC10</th>\n",
       "      <th>...</th>\n",
       "      <th>PC116</th>\n",
       "      <th>PC117</th>\n",
       "      <th>PC118</th>\n",
       "      <th>PC119</th>\n",
       "      <th>PC120</th>\n",
       "      <th>PC121</th>\n",
       "      <th>PC122</th>\n",
       "      <th>PC123</th>\n",
       "      <th>PC124</th>\n",
       "      <th>PC125</th>\n",
       "    </tr>\n",
       "    <tr>\n",
       "      <th>CustomerID</th>\n",
       "      <th></th>\n",
       "      <th></th>\n",
       "      <th></th>\n",
       "      <th></th>\n",
       "      <th></th>\n",
       "      <th></th>\n",
       "      <th></th>\n",
       "      <th></th>\n",
       "      <th></th>\n",
       "      <th></th>\n",
       "      <th></th>\n",
       "      <th></th>\n",
       "      <th></th>\n",
       "      <th></th>\n",
       "      <th></th>\n",
       "      <th></th>\n",
       "      <th></th>\n",
       "      <th></th>\n",
       "      <th></th>\n",
       "      <th></th>\n",
       "      <th></th>\n",
       "    </tr>\n",
       "  </thead>\n",
       "  <tbody>\n",
       "    <tr>\n",
       "      <th>12347</th>\n",
       "      <td>5.876139</td>\n",
       "      <td>4.828924</td>\n",
       "      <td>-0.495563</td>\n",
       "      <td>3.093849</td>\n",
       "      <td>-0.633757</td>\n",
       "      <td>-11.534052</td>\n",
       "      <td>2.161988</td>\n",
       "      <td>7.116912</td>\n",
       "      <td>5.336086</td>\n",
       "      <td>4.424339</td>\n",
       "      <td>...</td>\n",
       "      <td>0.472311</td>\n",
       "      <td>0.548480</td>\n",
       "      <td>0.667170</td>\n",
       "      <td>0.511332</td>\n",
       "      <td>-0.094969</td>\n",
       "      <td>-0.862805</td>\n",
       "      <td>-0.004349</td>\n",
       "      <td>-0.796604</td>\n",
       "      <td>0.387505</td>\n",
       "      <td>0.012323</td>\n",
       "    </tr>\n",
       "    <tr>\n",
       "      <th>12348</th>\n",
       "      <td>-4.219841</td>\n",
       "      <td>1.226207</td>\n",
       "      <td>-1.881973</td>\n",
       "      <td>-0.174141</td>\n",
       "      <td>0.817732</td>\n",
       "      <td>1.160662</td>\n",
       "      <td>-0.871644</td>\n",
       "      <td>-0.846730</td>\n",
       "      <td>0.460376</td>\n",
       "      <td>0.853772</td>\n",
       "      <td>...</td>\n",
       "      <td>-0.811850</td>\n",
       "      <td>-0.026329</td>\n",
       "      <td>1.095149</td>\n",
       "      <td>-0.151482</td>\n",
       "      <td>-1.715995</td>\n",
       "      <td>1.567254</td>\n",
       "      <td>-0.589702</td>\n",
       "      <td>1.729490</td>\n",
       "      <td>1.032749</td>\n",
       "      <td>-0.936084</td>\n",
       "    </tr>\n",
       "    <tr>\n",
       "      <th>12349</th>\n",
       "      <td>-1.260832</td>\n",
       "      <td>2.387579</td>\n",
       "      <td>-0.073030</td>\n",
       "      <td>-1.119202</td>\n",
       "      <td>-0.034445</td>\n",
       "      <td>-3.714764</td>\n",
       "      <td>-0.343120</td>\n",
       "      <td>-0.149344</td>\n",
       "      <td>-0.790103</td>\n",
       "      <td>-0.380275</td>\n",
       "      <td>...</td>\n",
       "      <td>-1.344314</td>\n",
       "      <td>-1.834498</td>\n",
       "      <td>-0.554079</td>\n",
       "      <td>-4.364331</td>\n",
       "      <td>1.855118</td>\n",
       "      <td>-4.038638</td>\n",
       "      <td>-3.334203</td>\n",
       "      <td>0.096984</td>\n",
       "      <td>3.138745</td>\n",
       "      <td>3.946934</td>\n",
       "    </tr>\n",
       "    <tr>\n",
       "      <th>12350</th>\n",
       "      <td>-4.929321</td>\n",
       "      <td>-0.714915</td>\n",
       "      <td>-1.580923</td>\n",
       "      <td>-0.469786</td>\n",
       "      <td>-0.116053</td>\n",
       "      <td>0.647768</td>\n",
       "      <td>0.112827</td>\n",
       "      <td>-1.335688</td>\n",
       "      <td>1.546382</td>\n",
       "      <td>-1.189757</td>\n",
       "      <td>...</td>\n",
       "      <td>0.216627</td>\n",
       "      <td>0.521099</td>\n",
       "      <td>-0.340818</td>\n",
       "      <td>-1.734804</td>\n",
       "      <td>0.702641</td>\n",
       "      <td>-0.403931</td>\n",
       "      <td>-0.901435</td>\n",
       "      <td>-1.777776</td>\n",
       "      <td>0.868563</td>\n",
       "      <td>-2.465347</td>\n",
       "    </tr>\n",
       "    <tr>\n",
       "      <th>12352</th>\n",
       "      <td>-2.053103</td>\n",
       "      <td>2.110988</td>\n",
       "      <td>0.184946</td>\n",
       "      <td>0.127917</td>\n",
       "      <td>0.087689</td>\n",
       "      <td>-1.943928</td>\n",
       "      <td>2.383554</td>\n",
       "      <td>0.898990</td>\n",
       "      <td>-0.672349</td>\n",
       "      <td>0.081430</td>\n",
       "      <td>...</td>\n",
       "      <td>13.010588</td>\n",
       "      <td>1.807302</td>\n",
       "      <td>-8.157644</td>\n",
       "      <td>1.997146</td>\n",
       "      <td>-3.438207</td>\n",
       "      <td>-3.359599</td>\n",
       "      <td>2.474139</td>\n",
       "      <td>-2.869258</td>\n",
       "      <td>-2.433634</td>\n",
       "      <td>2.119958</td>\n",
       "    </tr>\n",
       "  </tbody>\n",
       "</table>\n",
       "<p>5 rows × 125 columns</p>\n",
       "</div>"
      ],
      "text/plain": [
       "                 PC1       PC2       PC3       PC4       PC5        PC6  \\\n",
       "CustomerID                                                                \n",
       "12347       5.876139  4.828924 -0.495563  3.093849 -0.633757 -11.534052   \n",
       "12348      -4.219841  1.226207 -1.881973 -0.174141  0.817732   1.160662   \n",
       "12349      -1.260832  2.387579 -0.073030 -1.119202 -0.034445  -3.714764   \n",
       "12350      -4.929321 -0.714915 -1.580923 -0.469786 -0.116053   0.647768   \n",
       "12352      -2.053103  2.110988  0.184946  0.127917  0.087689  -1.943928   \n",
       "\n",
       "                 PC7       PC8       PC9      PC10    ...         PC116  \\\n",
       "CustomerID                                            ...                 \n",
       "12347       2.161988  7.116912  5.336086  4.424339    ...      0.472311   \n",
       "12348      -0.871644 -0.846730  0.460376  0.853772    ...     -0.811850   \n",
       "12349      -0.343120 -0.149344 -0.790103 -0.380275    ...     -1.344314   \n",
       "12350       0.112827 -1.335688  1.546382 -1.189757    ...      0.216627   \n",
       "12352       2.383554  0.898990 -0.672349  0.081430    ...     13.010588   \n",
       "\n",
       "               PC117     PC118     PC119     PC120     PC121     PC122  \\\n",
       "CustomerID                                                               \n",
       "12347       0.548480  0.667170  0.511332 -0.094969 -0.862805 -0.004349   \n",
       "12348      -0.026329  1.095149 -0.151482 -1.715995  1.567254 -0.589702   \n",
       "12349      -1.834498 -0.554079 -4.364331  1.855118 -4.038638 -3.334203   \n",
       "12350       0.521099 -0.340818 -1.734804  0.702641 -0.403931 -0.901435   \n",
       "12352       1.807302 -8.157644  1.997146 -3.438207 -3.359599  2.474139   \n",
       "\n",
       "               PC123     PC124     PC125  \n",
       "CustomerID                                \n",
       "12347      -0.796604  0.387505  0.012323  \n",
       "12348       1.729490  1.032749 -0.936084  \n",
       "12349       0.096984  3.138745  3.946934  \n",
       "12350      -1.777776  0.868563 -2.465347  \n",
       "12352      -2.869258 -2.433634  2.119958  \n",
       "\n",
       "[5 rows x 125 columns]"
      ]
     },
     "execution_count": 14,
     "metadata": {},
     "output_type": "execute_result"
    }
   ],
   "source": [
    "# Put PC_items into a dataframe\n",
    "\n",
    "items_pca = pd.DataFrame(PC_items)\n",
    "\n",
    "# Name the columns\n",
    "items_pca.columns = [ 'PC{}' .format(i+1) for i in range(PC_items.shape[1])]\n",
    "\n",
    "# Update its index\n",
    "items_pca.index = item_data.index\n",
    "\n",
    "# Display first 5 rows\n",
    "items_pca.head()"
   ]
  },
  {
   "cell_type": "code",
   "execution_count": 15,
   "metadata": {
    "collapsed": true
   },
   "outputs": [],
   "source": [
    "# Save pca_item_data.csv\n",
    "items_pca.to_csv('./pca_item_data.csv')"
   ]
  },
  {
   "cell_type": "code",
   "execution_count": null,
   "metadata": {
    "collapsed": true
   },
   "outputs": [],
   "source": []
  }
 ],
 "metadata": {
  "kernelspec": {
   "display_name": "Python [conda root]",
   "language": "python",
   "name": "conda-root-py"
  },
  "language_info": {
   "codemirror_mode": {
    "name": "ipython",
    "version": 2
   },
   "file_extension": ".py",
   "mimetype": "text/x-python",
   "name": "python",
   "nbconvert_exporter": "python",
   "pygments_lexer": "ipython2",
   "version": "2.7.12"
  }
 },
 "nbformat": 4,
 "nbformat_minor": 1
}
